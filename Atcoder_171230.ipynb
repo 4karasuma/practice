{
 "cells": [
  {
   "cell_type": "markdown",
   "metadata": {},
   "source": [
    "#### A問題\n",
    "12 月 30 日の M 時から次の年になるまでは何時間か、求めてください。"
   ]
  },
  {
   "cell_type": "code",
   "execution_count": 2,
   "metadata": {},
   "outputs": [
    {
     "name": "stdout",
     "output_type": "stream",
     "text": [
      "12\n",
      "36\n"
     ]
    }
   ],
   "source": [
    "N = int(input())\n",
    "print(48 - N)"
   ]
  },
  {
   "cell_type": "markdown",
   "metadata": {},
   "source": [
    "#### B問題\n",
    "Atcoder国では、郵便番号は A+B+1 文字からなり、A+1 文字目はハイフン -、それ以外の全ての文字は 0 以上 9 以下の数字です。\n",
    "\n",
    "文字列 S が与えられるので、Atcoder国の郵便番号の形式を満たすかどうか判定してください。"
   ]
  },
  {
   "cell_type": "code",
   "execution_count": 3,
   "metadata": {},
   "outputs": [
    {
     "name": "stdout",
     "output_type": "stream",
     "text": [
      "3 4\n",
      "269-6650\n",
      "Yes\n"
     ]
    }
   ],
   "source": [
    "data = input().split()\n",
    "A = int(data[0])\n",
    "B = int(data[1])\n",
    "S = input()\n",
    "s1 = S[:A]\n",
    "s2 = S[A:A+1]\n",
    "s3= S[len(S)-B:]\n",
    "if s1.isdigit() == True:\n",
    "    if s2 == \"-\":\n",
    "        if s3.isdigit() == True:\n",
    "            print(\"Yes\")\n",
    "        else : \n",
    "            print(\"No\")\n",
    "    else:\n",
    "        print(\"No\")\n",
    "else :\n",
    "    print(\"No\")"
   ]
  },
  {
   "cell_type": "markdown",
   "metadata": {},
   "source": [
    "#### C問題\n",
    "\n",
    "Atcoder国に、 1 本の東西方向に走る鉄道が完成しました。\n",
    "\n",
    "この鉄道には N 個の駅があり、西から順に 1,2,…,N の番号がついています。\n",
    "\n",
    "明日、鉄道の開通式が開かれます。\n",
    "\n",
    "この鉄道では、1≦i≦N−1 を満たす全ての整数 i に対して、駅 i から駅 i+1 に、Ci 秒で向かう列車が運行されます。ただし、これら以外の列車は運行されません。\n",
    "\n",
    "駅 i から駅 i+1 に移動する列車のうち最初の列車は、開通式開始 Si 秒後に駅 i を発車し、その後は Fi 秒おきに駅 i を発車する列車があります。\n",
    "\n",
    "また、Si は Fi で割り切れることが保証されます。\n",
    "\n",
    "つまり、A％B で A を B で割った余りを表すとき、Si≦t,t％Fi=0 を満たす全ての t に対してのみ、開通式開始 t 秒後に駅 i を出発し、開通式開始 t+Ci 秒後に駅 i+1 に到着する列車があります。\n",
    "\n",
    "列車の乗り降りにかかる時間を考えないとき、全ての駅 i に対して、開通式開始時に駅 i にいる場合、駅 N に到着できるのは最も早くて開通式開始何秒後か、答えてください。"
   ]
  },
  {
   "cell_type": "code",
   "execution_count": 5,
   "metadata": {},
   "outputs": [
    {
     "name": "stdout",
     "output_type": "stream",
     "text": [
      "4\n",
      "12 24 6\n",
      "52 16 4\n",
      "99 2 2\n",
      "187\n",
      "167\n",
      "101\n",
      "0\n"
     ]
    }
   ],
   "source": [
    "import math\n",
    "N = int(input())\n",
    "grid = []\n",
    "for i in range(N-1):\n",
    "    array = list(map(int, input().strip().split(' ')))\n",
    "    grid.append(array)\n",
    "for x in range(N): \n",
    "    time = 0\n",
    "    for i in range(x, N-1):\n",
    "        if time <= grid[i][1]:\n",
    "            time = grid[i][0] + grid[i][1]\n",
    "        else :\n",
    "            time = (math.ceil((time - grid[i][1])/grid[i][2]))*grid[i][2] + grid[i][1] + grid[i][0]\n",
    "    print(time)"
   ]
  }
 ],
 "metadata": {
  "kernelspec": {
   "display_name": "Python 3",
   "language": "python",
   "name": "python3"
  },
  "language_info": {
   "codemirror_mode": {
    "name": "ipython",
    "version": 3
   },
   "file_extension": ".py",
   "mimetype": "text/x-python",
   "name": "python",
   "nbconvert_exporter": "python",
   "pygments_lexer": "ipython3",
   "version": "3.6.1"
  }
 },
 "nbformat": 4,
 "nbformat_minor": 2
}
